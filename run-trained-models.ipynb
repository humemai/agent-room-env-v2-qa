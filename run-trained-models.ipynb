{
 "cells": [
  {
   "cell_type": "markdown",
   "metadata": {},
   "source": [
    "## Run trained models for qualitative analysis\n"
   ]
  },
  {
   "cell_type": "code",
   "execution_count": 1,
   "metadata": {},
   "outputs": [
    {
     "name": "stderr",
     "output_type": "stream",
     "text": [
      "/home/tk/.virtualenvs/agent-room-env-v2-qa/lib/python3.10/site-packages/tqdm/auto.py:21: TqdmWarning: IProgress not found. Please update jupyter and ipywidgets. See https://ipywidgets.readthedocs.io/en/stable/user_install.html\n",
      "  from .autonotebook import tqdm as notebook_tqdm\n",
      "  0%|          | 0/20 [00:00<?, ?it/s]/home/tk/.virtualenvs/agent-room-env-v2-qa/lib/python3.10/site-packages/gymnasium/utils/passive_env_checker.py:168: DeprecationWarning: \u001b[33mWARN: Current gymnasium version requires that `Env.reset` can be passed a `seed` instead of using `Env.seed` for resetting the environment random number generator.\u001b[0m\n",
      "  logger.deprecation(\n",
      "/home/tk/.virtualenvs/agent-room-env-v2-qa/lib/python3.10/site-packages/gymnasium/utils/passive_env_checker.py:181: DeprecationWarning: \u001b[33mWARN: Current gymnasium version requires that `Env.reset` can be passed `options` to allow the environment initialisation to be passed additional information.\u001b[0m\n",
      "  logger.deprecation(\n",
      "/home/tk/.virtualenvs/agent-room-env-v2-qa/lib/python3.10/site-packages/gymnasium/utils/passive_env_checker.py:127: UserWarning: \u001b[33mWARN: The obs returned by the `reset()` method should be an int or np.int64, actual type: <class 'dict'>\u001b[0m\n",
      "  logger.warn(f\"{pre} should be an int or np.int64, actual type: {type(obs)}\")\n",
      "/home/tk/.virtualenvs/agent-room-env-v2-qa/lib/python3.10/site-packages/gymnasium/utils/passive_env_checker.py:159: UserWarning: \u001b[33mWARN: The obs returned by the `reset()` method is not within the observation space.\u001b[0m\n",
      "  logger.warn(f\"{pre} is not within the observation space.\")\n",
      "/home/tk/.virtualenvs/agent-room-env-v2-qa/lib/python3.10/site-packages/gymnasium/utils/passive_env_checker.py:127: UserWarning: \u001b[33mWARN: The obs returned by the `step()` method should be an int or np.int64, actual type: <class 'dict'>\u001b[0m\n",
      "  logger.warn(f\"{pre} should be an int or np.int64, actual type: {type(obs)}\")\n",
      "/home/tk/.virtualenvs/agent-room-env-v2-qa/lib/python3.10/site-packages/gymnasium/utils/passive_env_checker.py:159: UserWarning: \u001b[33mWARN: The obs returned by the `step()` method is not within the observation space.\u001b[0m\n",
      "  logger.warn(f\"{pre} is not within the observation space.\")\n",
      "/home/tk/.virtualenvs/agent-room-env-v2-qa/lib/python3.10/site-packages/gymnasium/utils/passive_env_checker.py:246: UserWarning: \u001b[33mWARN: The reward returned by `step()` must be a float, int, np.integer or np.floating, actual type: <class 'list'>\u001b[0m\n",
      "  logger.warn(\n"
     ]
    },
    {
     "name": "stdout",
     "output_type": "stream",
     "text": [
      "Running on cpu\n",
      "Assertion passed: dict A is part of dict B.\n"
     ]
    },
    {
     "name": "stderr",
     "output_type": "stream",
     "text": [
      "  5%|▌         | 1/20 [00:01<00:19,  1.02s/it]"
     ]
    },
    {
     "name": "stdout",
     "output_type": "stream",
     "text": [
      "Running on cpu\n",
      "Assertion passed: dict A is part of dict B.\n"
     ]
    },
    {
     "name": "stderr",
     "output_type": "stream",
     "text": [
      " 10%|█         | 2/20 [00:01<00:17,  1.03it/s]"
     ]
    },
    {
     "name": "stdout",
     "output_type": "stream",
     "text": [
      "Running on cpu\n",
      "Assertion passed: dict A is part of dict B.\n"
     ]
    },
    {
     "name": "stderr",
     "output_type": "stream",
     "text": [
      " 15%|█▌        | 3/20 [00:02<00:15,  1.08it/s]"
     ]
    },
    {
     "name": "stdout",
     "output_type": "stream",
     "text": [
      "Running on cpu\n",
      "Assertion passed: dict A is part of dict B.\n"
     ]
    },
    {
     "name": "stderr",
     "output_type": "stream",
     "text": [
      " 20%|██        | 4/20 [00:03<00:15,  1.02it/s]"
     ]
    },
    {
     "name": "stdout",
     "output_type": "stream",
     "text": [
      "Running on cpu\n",
      "Assertion passed: dict A is part of dict B.\n"
     ]
    },
    {
     "name": "stderr",
     "output_type": "stream",
     "text": [
      " 25%|██▌       | 5/20 [00:04<00:14,  1.03it/s]"
     ]
    },
    {
     "name": "stdout",
     "output_type": "stream",
     "text": [
      "Running on cpu\n",
      "Assertion passed: dict A is part of dict B.\n"
     ]
    },
    {
     "name": "stderr",
     "output_type": "stream",
     "text": [
      " 30%|███       | 6/20 [00:05<00:13,  1.01it/s]"
     ]
    },
    {
     "name": "stdout",
     "output_type": "stream",
     "text": [
      "Running on cpu\n",
      "Assertion passed: dict A is part of dict B.\n"
     ]
    },
    {
     "name": "stderr",
     "output_type": "stream",
     "text": [
      " 35%|███▌      | 7/20 [00:06<00:12,  1.04it/s]"
     ]
    },
    {
     "name": "stdout",
     "output_type": "stream",
     "text": [
      "Running on cpu\n",
      "Assertion passed: dict A is part of dict B.\n"
     ]
    },
    {
     "name": "stderr",
     "output_type": "stream",
     "text": [
      " 40%|████      | 8/20 [00:07<00:11,  1.03it/s]"
     ]
    },
    {
     "name": "stdout",
     "output_type": "stream",
     "text": [
      "Running on cpu\n",
      "Assertion passed: dict A is part of dict B.\n"
     ]
    },
    {
     "name": "stderr",
     "output_type": "stream",
     "text": [
      " 45%|████▌     | 9/20 [00:08<00:10,  1.06it/s]"
     ]
    },
    {
     "name": "stdout",
     "output_type": "stream",
     "text": [
      "Running on cpu\n",
      "Assertion passed: dict A is part of dict B.\n"
     ]
    },
    {
     "name": "stderr",
     "output_type": "stream",
     "text": [
      " 50%|█████     | 10/20 [00:09<00:09,  1.02it/s]"
     ]
    },
    {
     "name": "stdout",
     "output_type": "stream",
     "text": [
      "Running on cpu\n",
      "Assertion passed: dict A is part of dict B.\n"
     ]
    },
    {
     "name": "stderr",
     "output_type": "stream",
     "text": [
      " 55%|█████▌    | 11/20 [00:10<00:08,  1.03it/s]"
     ]
    },
    {
     "name": "stdout",
     "output_type": "stream",
     "text": [
      "Running on cpu\n",
      "Assertion passed: dict A is part of dict B.\n"
     ]
    },
    {
     "name": "stderr",
     "output_type": "stream",
     "text": [
      " 60%|██████    | 12/20 [00:11<00:07,  1.06it/s]"
     ]
    },
    {
     "name": "stdout",
     "output_type": "stream",
     "text": [
      "Running on cpu\n",
      "Assertion passed: dict A is part of dict B.\n"
     ]
    },
    {
     "name": "stderr",
     "output_type": "stream",
     "text": [
      " 65%|██████▌   | 13/20 [00:12<00:07,  1.01s/it]"
     ]
    },
    {
     "name": "stdout",
     "output_type": "stream",
     "text": [
      "Running on cpu\n",
      "Assertion passed: dict A is part of dict B.\n"
     ]
    },
    {
     "name": "stderr",
     "output_type": "stream",
     "text": [
      " 70%|███████   | 14/20 [00:13<00:06,  1.01s/it]"
     ]
    },
    {
     "name": "stdout",
     "output_type": "stream",
     "text": [
      "Running on cpu\n",
      "Assertion passed: dict A is part of dict B.\n"
     ]
    },
    {
     "name": "stderr",
     "output_type": "stream",
     "text": [
      " 75%|███████▌  | 15/20 [00:14<00:05,  1.02s/it]"
     ]
    },
    {
     "name": "stdout",
     "output_type": "stream",
     "text": [
      "Running on cpu\n",
      "Assertion passed: dict A is part of dict B.\n"
     ]
    },
    {
     "name": "stderr",
     "output_type": "stream",
     "text": [
      " 80%|████████  | 16/20 [00:15<00:04,  1.08s/it]"
     ]
    },
    {
     "name": "stdout",
     "output_type": "stream",
     "text": [
      "Running on cpu\n",
      "Assertion passed: dict A is part of dict B.\n"
     ]
    },
    {
     "name": "stderr",
     "output_type": "stream",
     "text": [
      " 85%|████████▌ | 17/20 [00:16<00:03,  1.04s/it]"
     ]
    },
    {
     "name": "stdout",
     "output_type": "stream",
     "text": [
      "Running on cpu\n",
      "Assertion passed: dict A is part of dict B.\n"
     ]
    },
    {
     "name": "stderr",
     "output_type": "stream",
     "text": [
      " 90%|█████████ | 18/20 [00:17<00:02,  1.01s/it]"
     ]
    },
    {
     "name": "stdout",
     "output_type": "stream",
     "text": [
      "Running on cpu\n",
      "Assertion passed: dict A is part of dict B.\n"
     ]
    },
    {
     "name": "stderr",
     "output_type": "stream",
     "text": [
      " 95%|█████████▌| 19/20 [00:18<00:00,  1.02it/s]"
     ]
    },
    {
     "name": "stdout",
     "output_type": "stream",
     "text": [
      "Running on cpu\n",
      "Assertion passed: dict A is part of dict B.\n"
     ]
    },
    {
     "name": "stderr",
     "output_type": "stream",
     "text": [
      "100%|██████████| 20/20 [00:19<00:00,  1.00it/s]"
     ]
    },
    {
     "name": "stdout",
     "output_type": "stream",
     "text": [
      "0 :  545\n",
      "1 :  342\n",
      "2 :  382\n",
      "3 :  566\n",
      "4 :  469\n",
      "5 :  496\n",
      "6 :  386\n",
      "7 :  437\n",
      "8 :  436\n",
      "9 :  478\n",
      "10 :  506\n",
      "11 :  430\n",
      "12 :  543\n",
      "13 :  389\n",
      "14 :  428\n",
      "15 :  391\n",
      "16 :  462\n",
      "17 :  348\n",
      "18 :  324\n",
      "19 :  445\n"
     ]
    },
    {
     "name": "stderr",
     "output_type": "stream",
     "text": [
      "\n"
     ]
    }
   ],
   "source": [
    "import os\n",
    "from collections import Counter\n",
    "from copy import deepcopy\n",
    "from glob import glob\n",
    "import matplotlib.pyplot as plt\n",
    "\n",
    "import torch\n",
    "from tqdm.auto import tqdm\n",
    "from humemai.utils import read_yaml, read_json\n",
    "\n",
    "from agent import DQNAgent\n",
    "\n",
    "\n",
    "num_tests = 20\n",
    "string_map = read_json(\n",
    "    \"./trained-results/non-equal-object-probs/dqn/\"\n",
    "    \"room_size=xl-different-prob/capacity=96/\"\n",
    "    \"2024-08-12 23:58:06.290168/generic-to-realistic-mapping.json\"\n",
    ")\n",
    "\n",
    "train_dir = (\n",
    "    \"./trained-results/non-equal-object-probs/CB/\"\n",
    "    \"room_size=xl-different-prob/capacity=96/\"\n",
    "    \"2024-09-28 16:10:51.589604/\"\n",
    ")\n",
    "\n",
    "# dqn_model_path = glob(os.path.join(train_dir, \"*.pt\"))[0]\n",
    "params = read_yaml(os.path.join(train_dir, \"train.yaml\"))\n",
    "params[\"default_root_dir\"] = \"./training-results/TRASH\"\n",
    "params[\"pretrained_path\"] = train_dir\n",
    "results = read_yaml(os.path.join(train_dir, \"results.yaml\"))\n",
    "\n",
    "stats_interest = [\n",
    "    {\n",
    "        \"hidden_state\": None,\n",
    "        \"state\": [],\n",
    "        \"a_qa\": [],\n",
    "        \"q_qa\": [],\n",
    "        \"score\": 0,\n",
    "        \"rewards\": [],\n",
    "        \"questions\": [],\n",
    "        \"answers\": [],\n",
    "    }\n",
    "    for _ in range(num_tests)\n",
    "]\n",
    "\n",
    "\n",
    "for seed in tqdm(range(num_tests)):\n",
    "    params[\"test_seed\"] = seed\n",
    "    params[\"train_seed\"] = seed\n",
    "    agent = DQNAgent(**params)\n",
    "\n",
    "    for param in agent.dqn.parameters():\n",
    "        param.requires_grad = False\n",
    "\n",
    "    done = True\n",
    "    while True:\n",
    "        if done:\n",
    "            agent.reset()\n",
    "            done = False\n",
    "\n",
    "        else:\n",
    "            state = deepcopy(agent.memory_systems.get_working_memory().to_list())\n",
    "            (\n",
    "                answers,\n",
    "                a_qa,\n",
    "                q_qa,\n",
    "                reward,\n",
    "                done,\n",
    "                que,\n",
    "            ) = agent.step(greedy=True)\n",
    "\n",
    "            stats_interest[seed][\"state\"].append(state)\n",
    "            stats_interest[seed][\"a_qa\"].append(a_qa)\n",
    "            stats_interest[seed][\"q_qa\"].append(q_qa)\n",
    "            stats_interest[seed][\"score\"] += sum(reward)\n",
    "            stats_interest[seed][\"rewards\"].append(reward)\n",
    "            stats_interest[seed][\"questions\"].append(que)\n",
    "            stats_interest[seed][\"answers\"].append(answers)\n",
    "\n",
    "        if done:\n",
    "            stats_interest[seed][\"hidden_state\"] = deepcopy(\n",
    "                agent.env.unwrapped.hidden_global_states_all\n",
    "            )\n",
    "\n",
    "            break\n",
    "\n",
    "for idx in range(num_tests):\n",
    "    print(\n",
    "        idx,\n",
    "        \": \",\n",
    "        stats_interest[idx][\"score\"],\n",
    "    )"
   ]
  },
  {
   "cell_type": "markdown",
   "metadata": {},
   "source": [
    "### Choose the best index"
   ]
  },
  {
   "cell_type": "code",
   "execution_count": 18,
   "metadata": {},
   "outputs": [],
   "source": [
    "train_of_interest = 3\n",
    "step_of_interest = 20"
   ]
  },
  {
   "cell_type": "code",
   "execution_count": 19,
   "metadata": {},
   "outputs": [
    {
     "name": "stdout",
     "output_type": "stream",
     "text": [
      "Wine\n",
      "west\n",
      "Vault\n",
      "{'current_time': 20}\n",
      "\n",
      "Wine\n",
      "north\n",
      "Attic\n",
      "{'current_time': 20}\n",
      "\n",
      "Wine\n",
      "east\n",
      "Storage\n",
      "{'current_time': 20}\n",
      "\n",
      "Agent\n",
      "atlocation\n",
      "Wine\n",
      "{'current_time': 20}\n",
      "\n",
      "Wine\n",
      "south\n",
      "Wall\n",
      "{'current_time': 20}\n",
      "\n",
      "Bag\n",
      "atlocation\n",
      "Foyer\n",
      "{'strength': 1}\n",
      "\n",
      "Agent\n",
      "atlocation\n",
      "Foyer\n",
      "{'strength': 1}\n",
      "\n",
      "Foyer\n",
      "north\n",
      "Wall\n",
      "{'strength': 1}\n",
      "\n",
      "Coat\n",
      "atlocation\n",
      "Foyer\n",
      "{'strength': 1}\n",
      "\n",
      "Living\n",
      "north\n",
      "Wall\n",
      "{'timestamp': [1]}\n",
      "\n",
      "Agent\n",
      "atlocation\n",
      "Living\n",
      "{'timestamp': [1]}\n",
      "\n",
      "Living\n",
      "south\n",
      "Dining\n",
      "{'strength': 1}\n",
      "\n",
      "Agent\n",
      "atlocation\n",
      "Dining\n",
      "{'strength': 1}\n",
      "\n",
      "Dining\n",
      "east\n",
      "Study\n",
      "{'strength': 1}\n",
      "\n",
      "Dining\n",
      "south\n",
      "Wall\n",
      "{'strength': 1}\n",
      "\n",
      "Dining\n",
      "north\n",
      "Living\n",
      "{'strength': 1}\n",
      "\n",
      "Desk\n",
      "atlocation\n",
      "Study\n",
      "{'strength': 1}\n",
      "\n",
      "Study\n",
      "north\n",
      "Wall\n",
      "{'strength': 1}\n",
      "\n",
      "Study\n",
      "west\n",
      "Dining\n",
      "{'strength': 1}\n",
      "\n",
      "Study\n",
      "south\n",
      "Bath\n",
      "{'strength': 1}\n",
      "\n",
      "Agent\n",
      "atlocation\n",
      "Study\n",
      "{'strength': 1}\n",
      "\n",
      "Agent\n",
      "atlocation\n",
      "Library\n",
      "{'strength': 1}\n",
      "\n",
      "Library\n",
      "south\n",
      "Wall\n",
      "{'strength': 1}\n",
      "\n",
      "Library\n",
      "west\n",
      "Study\n",
      "{'strength': 1}\n",
      "\n",
      "Shelf\n",
      "atlocation\n",
      "Library\n",
      "{'strength': 1}\n",
      "\n",
      "Library\n",
      "east\n",
      "Sunroom\n",
      "{'strength': 1}\n",
      "\n",
      "Library\n",
      "north\n",
      "Wall\n",
      "{'strength': 1}\n",
      "\n",
      "Sunroom\n",
      "south\n",
      "Lounge\n",
      "{'strength': 1}\n",
      "\n",
      "Sunroom\n",
      "east\n",
      "Gym\n",
      "{'strength': 1}\n",
      "\n",
      "Sunroom\n",
      "north\n",
      "Den\n",
      "{'strength': 1}\n",
      "\n",
      "Sunroom\n",
      "west\n",
      "Library\n",
      "{'strength': 1}\n",
      "\n",
      "Couch\n",
      "atlocation\n",
      "Sunroom\n",
      "{'strength': 1}\n",
      "\n",
      "Book\n",
      "atlocation\n",
      "Sunroom\n",
      "{'strength': 1}\n",
      "\n",
      "Agent\n",
      "atlocation\n",
      "Sunroom\n",
      "{'strength': 1}\n",
      "\n",
      "Lounge\n",
      "east\n",
      "Studio\n",
      "{'timestamp': [6]}\n",
      "\n",
      "Agent\n",
      "atlocation\n",
      "Lounge\n",
      "{'strength': 1}\n",
      "\n",
      "Lounge\n",
      "west\n",
      "Wall\n",
      "{'strength': 1}\n",
      "\n",
      "Lounge\n",
      "south\n",
      "Theater\n",
      "{'timestamp': [6]}\n",
      "\n",
      "Casey\n",
      "atlocation\n",
      "Lounge\n",
      "{'strength': 1}\n",
      "\n",
      "Casey\n",
      "atlocation\n",
      "Theater\n",
      "{'strength': 1}\n",
      "\n",
      "Theater\n",
      "west\n",
      "Game\n",
      "{'strength': 1}\n",
      "\n",
      "Theater\n",
      "south\n",
      "Wall\n",
      "{'strength': 1}\n",
      "\n",
      "Theater\n",
      "east\n",
      "Craft\n",
      "{'strength': 1}\n",
      "\n",
      "Agent\n",
      "atlocation\n",
      "Theater\n",
      "{'timestamp': [8]}\n",
      "\n",
      "Craft\n",
      "east\n",
      "Wall\n",
      "{'strength': 1}\n",
      "\n",
      "Agent\n",
      "atlocation\n",
      "Craft\n",
      "{'strength': 1}\n",
      "\n",
      "Craft\n",
      "south\n",
      "Nursery\n",
      "{'strength': 1}\n",
      "\n",
      "Sam\n",
      "atlocation\n",
      "Craft\n",
      "{'strength': 1}\n",
      "\n",
      "Crib\n",
      "atlocation\n",
      "Nursery\n",
      "{'strength': 1}\n",
      "\n",
      "Nursery\n",
      "east\n",
      "Wall\n",
      "{'timestamp': [10]}\n",
      "\n",
      "Agent\n",
      "atlocation\n",
      "Nursery\n",
      "{'timestamp': [10]}\n",
      "\n",
      "Nursery\n",
      "west\n",
      "Wall\n",
      "{'strength': 1}\n",
      "\n",
      "Nursery\n",
      "south\n",
      "Closet\n",
      "{'strength': 1}\n",
      "\n",
      "Closet\n",
      "east\n",
      "Wall\n",
      "{'timestamp': [11]}\n",
      "\n",
      "Closet\n",
      "south\n",
      "Wall\n",
      "{'timestamp': [11]}\n",
      "\n",
      "Sauna\n",
      "east\n",
      "Closet\n",
      "{'timestamp': [12]}\n",
      "\n",
      "Grill\n",
      "atlocation\n",
      "Pool\n",
      "{'strength': 1}\n",
      "\n",
      "Pool\n",
      "south\n",
      "Wall\n",
      "{'strength': 1}\n",
      "\n",
      "Pool\n",
      "east\n",
      "Sauna\n",
      "{'timestamp': [13, 15], 'strength': 1}\n",
      "\n",
      "Agent\n",
      "atlocation\n",
      "Pool\n",
      "{'strength': 1}\n",
      "\n",
      "Pool\n",
      "north\n",
      "Workshop\n",
      "{'timestamp': [14, 15]}\n",
      "\n",
      "Agent\n",
      "atlocation\n",
      "Guest\n",
      "{'strength': 1}\n",
      "\n",
      "Bed\n",
      "atlocation\n",
      "Guest\n",
      "{'strength': 1}\n",
      "\n",
      "Guest\n",
      "east\n",
      "Patio\n",
      "{'strength': 1}\n",
      "\n",
      "Guest\n",
      "west\n",
      "Attic\n",
      "{'strength': 1}\n",
      "\n",
      "Guest\n",
      "south\n",
      "Storage\n",
      "{'strength': 1}\n",
      "\n",
      "Riley\n",
      "atlocation\n",
      "Guest\n",
      "{'strength': 1}\n",
      "\n",
      "Jamie\n",
      "atlocation\n",
      "Storage\n",
      "{'strength': 1}\n",
      "\n",
      "Storage\n",
      "east\n",
      "Wall\n",
      "{'timestamp': [19]}\n",
      "\n"
     ]
    }
   ],
   "source": [
    "for foo in stats_interest[train_of_interest][\"state\"][step_of_interest]:\n",
    "    for bar in foo:\n",
    "        try:\n",
    "            print(string_map[bar])\n",
    "        except:\n",
    "            print(bar)\n",
    "    print()"
   ]
  },
  {
   "cell_type": "code",
   "execution_count": 20,
   "metadata": {},
   "outputs": [
    {
     "data": {
      "text/plain": [
       "['Guest',\n",
       " 'Craft',\n",
       " 'Library',\n",
       " 'Storage',\n",
       " 'Game',\n",
       " 'Sunroom',\n",
       " 'Guest',\n",
       " 'Guest',\n",
       " 'Foyer',\n",
       " 'Lounge']"
      ]
     },
     "execution_count": 20,
     "metadata": {},
     "output_type": "execute_result"
    }
   ],
   "source": [
    "[string_map[foo] for foo in stats_interest[train_of_interest][\"answers\"][step_of_interest]]"
   ]
  },
  {
   "cell_type": "code",
   "execution_count": 21,
   "metadata": {},
   "outputs": [
    {
     "name": "stdout",
     "output_type": "stream",
     "text": [
      "Tool\n",
      "atlocation\n",
      "?\n",
      "20\n",
      "\n",
      "Sam\n",
      "atlocation\n",
      "?\n",
      "20\n",
      "\n",
      "Shelf\n",
      "atlocation\n",
      "?\n",
      "20\n",
      "\n",
      "Jamie\n",
      "atlocation\n",
      "?\n",
      "20\n",
      "\n",
      "Table\n",
      "atlocation\n",
      "?\n",
      "20\n",
      "\n",
      "Couch\n",
      "atlocation\n",
      "?\n",
      "20\n",
      "\n",
      "Tool\n",
      "atlocation\n",
      "?\n",
      "20\n",
      "\n",
      "Bed\n",
      "atlocation\n",
      "?\n",
      "20\n",
      "\n",
      "Bag\n",
      "atlocation\n",
      "?\n",
      "20\n",
      "\n",
      "Book\n",
      "atlocation\n",
      "?\n",
      "20\n",
      "\n"
     ]
    }
   ],
   "source": [
    "for foo in stats_interest[train_of_interest][\"questions\"][step_of_interest]:\n",
    "    for bar in foo:\n",
    "        try:\n",
    "            print(string_map[bar])\n",
    "        except:\n",
    "            print(bar)\n",
    "    print()"
   ]
  },
  {
   "cell_type": "code",
   "execution_count": 22,
   "metadata": {},
   "outputs": [
    {
     "data": {
      "text/plain": [
       "[0, 0, 1, 1, 1, 1, 0, 1, 1, 0]"
      ]
     },
     "execution_count": 22,
     "metadata": {},
     "output_type": "execute_result"
    }
   ],
   "source": [
    "stats_interest[train_of_interest][\"rewards\"][step_of_interest]"
   ]
  },
  {
   "cell_type": "code",
   "execution_count": 34,
   "metadata": {},
   "outputs": [
    {
     "data": {
      "text/plain": [
       "{'mean': 569.1, 'std': 34.98}"
      ]
     },
     "execution_count": 34,
     "metadata": {},
     "output_type": "execute_result"
    }
   ],
   "source": [
    "results[\"test_score\"]"
   ]
  }
 ],
 "metadata": {
  "kernelspec": {
   "display_name": "agent-room-env-v2-qa",
   "language": "python",
   "name": "python3"
  },
  "language_info": {
   "codemirror_mode": {
    "name": "ipython",
    "version": 3
   },
   "file_extension": ".py",
   "mimetype": "text/x-python",
   "name": "python",
   "nbconvert_exporter": "python",
   "pygments_lexer": "ipython3",
   "version": "3.10.12"
  }
 },
 "nbformat": 4,
 "nbformat_minor": 2
}
